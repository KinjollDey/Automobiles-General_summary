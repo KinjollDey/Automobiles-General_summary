{
 "cells": [
  {
   "cell_type": "markdown",
   "metadata": {},
   "source": [
    "## Pandas Lab Exercise (Kaggle Automobile Dataset)\n",
    "\n",
    "We shall now test your skills in using Pandas package. We will be using the [automobiles Dataset](https://www.kaggle.com/nisargpatel/automobiles/data) from Kaggle. \n",
    "\n",
    "Answer each question asked below wrt the automobiles dataset. Load pandas as pd and upload the Automobile.csv file as auto"
   ]
  },
  {
   "cell_type": "code",
   "execution_count": 2,
   "metadata": {},
   "outputs": [],
   "source": [
    "import numpy as np\n",
    "import pandas as pd"
   ]
  },
  {
   "cell_type": "markdown",
   "metadata": {},
   "source": [
    "**Load the Automobile dataset into variable \"auto\"**"
   ]
  },
  {
   "cell_type": "code",
   "execution_count": 3,
   "metadata": {},
   "outputs": [],
   "source": [
    "auto = pd.read_csv('Automobile (1).csv')"
   ]
  },
  {
   "cell_type": "markdown",
   "metadata": {},
   "source": [
    "**Check the head of the DataFrame.**"
   ]
  },
  {
   "cell_type": "code",
   "execution_count": 4,
   "metadata": {},
   "outputs": [
    {
     "output_type": "execute_result",
     "data": {
      "text/plain": "   symboling  normalized_losses         make fuel_type aspiration  \\\n0          3                168  alfa-romero       gas        std   \n1          3                168  alfa-romero       gas        std   \n2          1                168  alfa-romero       gas        std   \n3          2                164         audi       gas        std   \n4          2                164         audi       gas        std   \n\n  number_of_doors   body_style drive_wheels engine_location  wheel_base  ...  \\\n0             two  convertible          rwd           front        88.6  ...   \n1             two  convertible          rwd           front        88.6  ...   \n2             two    hatchback          rwd           front        94.5  ...   \n3            four        sedan          fwd           front        99.8  ...   \n4            four        sedan          4wd           front        99.4  ...   \n\n   engine_size  fuel_system  bore  stroke compression_ratio horsepower  \\\n0          130         mpfi  3.47    2.68               9.0        111   \n1          130         mpfi  3.47    2.68               9.0        111   \n2          152         mpfi  2.68    3.47               9.0        154   \n3          109         mpfi  3.19    3.40              10.0        102   \n4          136         mpfi  3.19    3.40               8.0        115   \n\n   peak_rpm city_mpg  highway_mpg  price  \n0      5000       21           27  13495  \n1      5000       21           27  16500  \n2      5000       19           26  16500  \n3      5500       24           30  13950  \n4      5500       18           22  17450  \n\n[5 rows x 26 columns]",
      "text/html": "<div>\n<style scoped>\n    .dataframe tbody tr th:only-of-type {\n        vertical-align: middle;\n    }\n\n    .dataframe tbody tr th {\n        vertical-align: top;\n    }\n\n    .dataframe thead th {\n        text-align: right;\n    }\n</style>\n<table border=\"1\" class=\"dataframe\">\n  <thead>\n    <tr style=\"text-align: right;\">\n      <th></th>\n      <th>symboling</th>\n      <th>normalized_losses</th>\n      <th>make</th>\n      <th>fuel_type</th>\n      <th>aspiration</th>\n      <th>number_of_doors</th>\n      <th>body_style</th>\n      <th>drive_wheels</th>\n      <th>engine_location</th>\n      <th>wheel_base</th>\n      <th>...</th>\n      <th>engine_size</th>\n      <th>fuel_system</th>\n      <th>bore</th>\n      <th>stroke</th>\n      <th>compression_ratio</th>\n      <th>horsepower</th>\n      <th>peak_rpm</th>\n      <th>city_mpg</th>\n      <th>highway_mpg</th>\n      <th>price</th>\n    </tr>\n  </thead>\n  <tbody>\n    <tr>\n      <th>0</th>\n      <td>3</td>\n      <td>168</td>\n      <td>alfa-romero</td>\n      <td>gas</td>\n      <td>std</td>\n      <td>two</td>\n      <td>convertible</td>\n      <td>rwd</td>\n      <td>front</td>\n      <td>88.6</td>\n      <td>...</td>\n      <td>130</td>\n      <td>mpfi</td>\n      <td>3.47</td>\n      <td>2.68</td>\n      <td>9.0</td>\n      <td>111</td>\n      <td>5000</td>\n      <td>21</td>\n      <td>27</td>\n      <td>13495</td>\n    </tr>\n    <tr>\n      <th>1</th>\n      <td>3</td>\n      <td>168</td>\n      <td>alfa-romero</td>\n      <td>gas</td>\n      <td>std</td>\n      <td>two</td>\n      <td>convertible</td>\n      <td>rwd</td>\n      <td>front</td>\n      <td>88.6</td>\n      <td>...</td>\n      <td>130</td>\n      <td>mpfi</td>\n      <td>3.47</td>\n      <td>2.68</td>\n      <td>9.0</td>\n      <td>111</td>\n      <td>5000</td>\n      <td>21</td>\n      <td>27</td>\n      <td>16500</td>\n    </tr>\n    <tr>\n      <th>2</th>\n      <td>1</td>\n      <td>168</td>\n      <td>alfa-romero</td>\n      <td>gas</td>\n      <td>std</td>\n      <td>two</td>\n      <td>hatchback</td>\n      <td>rwd</td>\n      <td>front</td>\n      <td>94.5</td>\n      <td>...</td>\n      <td>152</td>\n      <td>mpfi</td>\n      <td>2.68</td>\n      <td>3.47</td>\n      <td>9.0</td>\n      <td>154</td>\n      <td>5000</td>\n      <td>19</td>\n      <td>26</td>\n      <td>16500</td>\n    </tr>\n    <tr>\n      <th>3</th>\n      <td>2</td>\n      <td>164</td>\n      <td>audi</td>\n      <td>gas</td>\n      <td>std</td>\n      <td>four</td>\n      <td>sedan</td>\n      <td>fwd</td>\n      <td>front</td>\n      <td>99.8</td>\n      <td>...</td>\n      <td>109</td>\n      <td>mpfi</td>\n      <td>3.19</td>\n      <td>3.40</td>\n      <td>10.0</td>\n      <td>102</td>\n      <td>5500</td>\n      <td>24</td>\n      <td>30</td>\n      <td>13950</td>\n    </tr>\n    <tr>\n      <th>4</th>\n      <td>2</td>\n      <td>164</td>\n      <td>audi</td>\n      <td>gas</td>\n      <td>std</td>\n      <td>four</td>\n      <td>sedan</td>\n      <td>4wd</td>\n      <td>front</td>\n      <td>99.4</td>\n      <td>...</td>\n      <td>136</td>\n      <td>mpfi</td>\n      <td>3.19</td>\n      <td>3.40</td>\n      <td>8.0</td>\n      <td>115</td>\n      <td>5500</td>\n      <td>18</td>\n      <td>22</td>\n      <td>17450</td>\n    </tr>\n  </tbody>\n</table>\n<p>5 rows × 26 columns</p>\n</div>"
     },
     "metadata": {},
     "execution_count": 4
    }
   ],
   "source": [
    "auto.head()"
   ]
  },
  {
   "cell_type": "markdown",
   "metadata": {},
   "source": [
    "**How many rows and columns are there?**"
   ]
  },
  {
   "cell_type": "code",
   "execution_count": 6,
   "metadata": {
    "tags": []
   },
   "outputs": [
    {
     "output_type": "stream",
     "name": "stdout",
     "text": "<class 'pandas.core.frame.DataFrame'>\nRangeIndex: 201 entries, 0 to 200\nData columns (total 26 columns):\n #   Column               Non-Null Count  Dtype  \n---  ------               --------------  -----  \n 0   symboling            201 non-null    int64  \n 1   normalized_losses    201 non-null    int64  \n 2   make                 201 non-null    object \n 3   fuel_type            201 non-null    object \n 4   aspiration           201 non-null    object \n 5   number_of_doors      201 non-null    object \n 6   body_style           201 non-null    object \n 7   drive_wheels         201 non-null    object \n 8   engine_location      201 non-null    object \n 9   wheel_base           201 non-null    float64\n 10  length               201 non-null    float64\n 11  width                201 non-null    float64\n 12  height               201 non-null    float64\n 13  curb_weight          201 non-null    int64  \n 14  engine_type          201 non-null    object \n 15  number_of_cylinders  201 non-null    object \n 16  engine_size          201 non-null    int64  \n 17  fuel_system          201 non-null    object \n 18  bore                 201 non-null    float64\n 19  stroke               201 non-null    float64\n 20  compression_ratio    201 non-null    float64\n 21  horsepower           201 non-null    int64  \n 22  peak_rpm             201 non-null    int64  \n 23  city_mpg             201 non-null    int64  \n 24  highway_mpg          201 non-null    int64  \n 25  price                201 non-null    int64  \ndtypes: float64(7), int64(9), object(10)\nmemory usage: 41.0+ KB\n"
    }
   ],
   "source": [
    "auto.info()"
   ]
  },
  {
   "cell_type": "markdown",
   "metadata": {},
   "source": [
    "**What is the average Price of all cars in the dataset?**"
   ]
  },
  {
   "cell_type": "code",
   "execution_count": 9,
   "metadata": {},
   "outputs": [
    {
     "output_type": "execute_result",
     "data": {
      "text/plain": "13207.129353233831"
     },
     "metadata": {},
     "execution_count": 9
    }
   ],
   "source": [
    "auto['price'].mean()"
   ]
  },
  {
   "cell_type": "markdown",
   "metadata": {},
   "source": [
    "**Which is the cheapest make and costliest make of car in the lot?**"
   ]
  },
  {
   "cell_type": "code",
   "execution_count": 11,
   "metadata": {},
   "outputs": [
    {
     "output_type": "execute_result",
     "data": {
      "text/plain": "71    mercedes-benz\nName: make, dtype: object"
     },
     "metadata": {},
     "execution_count": 11
    }
   ],
   "source": [
    "auto['make'][auto['price'] == auto['price'].max() ]"
   ]
  },
  {
   "cell_type": "code",
   "execution_count": 12,
   "metadata": {},
   "outputs": [
    {
     "output_type": "execute_result",
     "data": {
      "text/plain": "134    subaru\nName: make, dtype: object"
     },
     "metadata": {},
     "execution_count": 12
    }
   ],
   "source": [
    "auto['make'][auto['price'] == auto['price'].min() ]"
   ]
  },
  {
   "cell_type": "markdown",
   "metadata": {},
   "source": [
    "**How many cars have horsepower greater than 100?**"
   ]
  },
  {
   "cell_type": "code",
   "execution_count": 22,
   "metadata": {},
   "outputs": [
    {
     "output_type": "execute_result",
     "data": {
      "text/plain": "symboling              90\nnormalized_losses      90\nmake                   90\nfuel_type              90\naspiration             90\nnumber_of_doors        90\nbody_style             90\ndrive_wheels           90\nengine_location        90\nwheel_base             90\nlength                 90\nwidth                  90\nheight                 90\ncurb_weight            90\nengine_type            90\nnumber_of_cylinders    90\nengine_size            90\nfuel_system            90\nbore                   90\nstroke                 90\ncompression_ratio      90\nhorsepower             90\npeak_rpm               90\ncity_mpg               90\nhighway_mpg            90\nprice                  90\ndtype: int64"
     },
     "metadata": {},
     "execution_count": 22
    }
   ],
   "source": [
    "auto[auto['horsepower'] > 100].count()"
   ]
  },
  {
   "cell_type": "markdown",
   "metadata": {},
   "source": [
    "**How many hatchback cars are in the dataset ?**"
   ]
  },
  {
   "cell_type": "code",
   "execution_count": 23,
   "metadata": {
    "tags": []
   },
   "outputs": [
    {
     "output_type": "stream",
     "name": "stdout",
     "text": "<class 'pandas.core.frame.DataFrame'>\nInt64Index: 68 entries, 2 to 186\nData columns (total 26 columns):\n #   Column               Non-Null Count  Dtype  \n---  ------               --------------  -----  \n 0   symboling            68 non-null     int64  \n 1   normalized_losses    68 non-null     int64  \n 2   make                 68 non-null     object \n 3   fuel_type            68 non-null     object \n 4   aspiration           68 non-null     object \n 5   number_of_doors      68 non-null     object \n 6   body_style           68 non-null     object \n 7   drive_wheels         68 non-null     object \n 8   engine_location      68 non-null     object \n 9   wheel_base           68 non-null     float64\n 10  length               68 non-null     float64\n 11  width                68 non-null     float64\n 12  height               68 non-null     float64\n 13  curb_weight          68 non-null     int64  \n 14  engine_type          68 non-null     object \n 15  number_of_cylinders  68 non-null     object \n 16  engine_size          68 non-null     int64  \n 17  fuel_system          68 non-null     object \n 18  bore                 68 non-null     float64\n 19  stroke               68 non-null     float64\n 20  compression_ratio    68 non-null     float64\n 21  horsepower           68 non-null     int64  \n 22  peak_rpm             68 non-null     int64  \n 23  city_mpg             68 non-null     int64  \n 24  highway_mpg          68 non-null     int64  \n 25  price                68 non-null     int64  \ndtypes: float64(7), int64(9), object(10)\nmemory usage: 14.3+ KB\n"
    }
   ],
   "source": [
    "auto[auto['body_style'] == 'hatchback'].info()"
   ]
  },
  {
   "cell_type": "markdown",
   "metadata": {},
   "source": [
    "**What are the 3 most commonly found cars in the dataset?**"
   ]
  },
  {
   "cell_type": "code",
   "execution_count": 24,
   "metadata": {},
   "outputs": [
    {
     "output_type": "execute_result",
     "data": {
      "text/plain": "array(['alfa-romero', 'audi', 'bmw', 'chevrolet', 'dodge', 'honda',\n       'isuzu', 'jaguar', 'mazda', 'mercedes-benz', 'mercury',\n       'mitsubishi', 'nissan', 'peugot', 'plymouth', 'porsche', 'renault',\n       'saab', 'subaru', 'toyota', 'volkswagen', 'volvo'], dtype=object)"
     },
     "metadata": {},
     "execution_count": 24
    }
   ],
   "source": [
    "auto['make'].unique()"
   ]
  },
  {
   "cell_type": "code",
   "execution_count": 27,
   "metadata": {},
   "outputs": [
    {
     "output_type": "execute_result",
     "data": {
      "text/plain": "toyota    32\nnissan    18\nmazda     17\nName: make, dtype: int64"
     },
     "metadata": {},
     "execution_count": 27
    }
   ],
   "source": [
    "auto['make'].value_counts().head(3)"
   ]
  },
  {
   "cell_type": "markdown",
   "metadata": {},
   "source": [
    "**Someone purchased a car for 7099, what is the make of the car?**"
   ]
  },
  {
   "cell_type": "code",
   "execution_count": 28,
   "metadata": {},
   "outputs": [
    {
     "output_type": "execute_result",
     "data": {
      "text/plain": "   symboling  normalized_losses         make fuel_type aspiration  \\\n0          3                168  alfa-romero       gas        std   \n\n  number_of_doors   body_style drive_wheels engine_location  wheel_base  ...  \\\n0             two  convertible          rwd           front        88.6  ...   \n\n   engine_size  fuel_system  bore  stroke compression_ratio horsepower  \\\n0          130         mpfi  3.47    2.68               9.0        111   \n\n   peak_rpm city_mpg  highway_mpg  price  \n0      5000       21           27  13495  \n\n[1 rows x 26 columns]",
      "text/html": "<div>\n<style scoped>\n    .dataframe tbody tr th:only-of-type {\n        vertical-align: middle;\n    }\n\n    .dataframe tbody tr th {\n        vertical-align: top;\n    }\n\n    .dataframe thead th {\n        text-align: right;\n    }\n</style>\n<table border=\"1\" class=\"dataframe\">\n  <thead>\n    <tr style=\"text-align: right;\">\n      <th></th>\n      <th>symboling</th>\n      <th>normalized_losses</th>\n      <th>make</th>\n      <th>fuel_type</th>\n      <th>aspiration</th>\n      <th>number_of_doors</th>\n      <th>body_style</th>\n      <th>drive_wheels</th>\n      <th>engine_location</th>\n      <th>wheel_base</th>\n      <th>...</th>\n      <th>engine_size</th>\n      <th>fuel_system</th>\n      <th>bore</th>\n      <th>stroke</th>\n      <th>compression_ratio</th>\n      <th>horsepower</th>\n      <th>peak_rpm</th>\n      <th>city_mpg</th>\n      <th>highway_mpg</th>\n      <th>price</th>\n    </tr>\n  </thead>\n  <tbody>\n    <tr>\n      <th>0</th>\n      <td>3</td>\n      <td>168</td>\n      <td>alfa-romero</td>\n      <td>gas</td>\n      <td>std</td>\n      <td>two</td>\n      <td>convertible</td>\n      <td>rwd</td>\n      <td>front</td>\n      <td>88.6</td>\n      <td>...</td>\n      <td>130</td>\n      <td>mpfi</td>\n      <td>3.47</td>\n      <td>2.68</td>\n      <td>9.0</td>\n      <td>111</td>\n      <td>5000</td>\n      <td>21</td>\n      <td>27</td>\n      <td>13495</td>\n    </tr>\n  </tbody>\n</table>\n<p>1 rows × 26 columns</p>\n</div>"
     },
     "metadata": {},
     "execution_count": 28
    }
   ],
   "source": [
    "auto.head(1)"
   ]
  },
  {
   "cell_type": "code",
   "execution_count": 30,
   "metadata": {},
   "outputs": [
    {
     "output_type": "execute_result",
     "data": {
      "text/plain": "87    nissan\nName: make, dtype: object"
     },
     "metadata": {},
     "execution_count": 30
    }
   ],
   "source": [
    "auto['make'][auto['price'] == 7099]\n",
    "auto[auto['price'] == 7099]['make']"
   ]
  },
  {
   "cell_type": "markdown",
   "metadata": {},
   "source": [
    "**Which cars are priced greater than 40000?**"
   ]
  },
  {
   "cell_type": "code",
   "execution_count": 31,
   "metadata": {},
   "outputs": [
    {
     "output_type": "execute_result",
     "data": {
      "text/plain": "15              bmw\n70    mercedes-benz\n71    mercedes-benz\nName: make, dtype: object"
     },
     "metadata": {},
     "execution_count": 31
    }
   ],
   "source": [
    "auto['make'][auto['price'] > 40000]"
   ]
  },
  {
   "cell_type": "markdown",
   "metadata": {},
   "source": [
    "**Which are the cars that are both a sedan and priced less than 7000?**"
   ]
  },
  {
   "cell_type": "code",
   "execution_count": 34,
   "metadata": {},
   "outputs": [
    {
     "output_type": "execute_result",
     "data": {
      "text/plain": "   symboling  normalized_losses         make fuel_type aspiration  \\\n0          3                168  alfa-romero       gas        std   \n1          3                168  alfa-romero       gas        std   \n2          1                168  alfa-romero       gas        std   \n3          2                164         audi       gas        std   \n4          2                164         audi       gas        std   \n5          2                161         audi       gas        std   \n6          1                158         audi       gas        std   \n7          1                168         audi       gas        std   \n8          1                158         audi       gas      turbo   \n9          2                192          bmw       gas        std   \n\n  number_of_doors   body_style drive_wheels engine_location  wheel_base  ...  \\\n0             two  convertible          rwd           front        88.6  ...   \n1             two  convertible          rwd           front        88.6  ...   \n2             two    hatchback          rwd           front        94.5  ...   \n3            four        sedan          fwd           front        99.8  ...   \n4            four        sedan          4wd           front        99.4  ...   \n5             two        sedan          fwd           front        99.8  ...   \n6            four        sedan          fwd           front       105.8  ...   \n7            four        wagon          fwd           front       105.8  ...   \n8            four        sedan          fwd           front       105.8  ...   \n9             two        sedan          rwd           front       101.2  ...   \n\n   engine_size  fuel_system  bore  stroke compression_ratio horsepower  \\\n0          130         mpfi  3.47    2.68               9.0        111   \n1          130         mpfi  3.47    2.68               9.0        111   \n2          152         mpfi  2.68    3.47               9.0        154   \n3          109         mpfi  3.19    3.40              10.0        102   \n4          136         mpfi  3.19    3.40               8.0        115   \n5          136         mpfi  3.19    3.40               8.5        110   \n6          136         mpfi  3.19    3.40               8.5        110   \n7          136         mpfi  3.19    3.40               8.5        110   \n8          131         mpfi  3.13    3.40               8.3        140   \n9          108         mpfi  3.50    2.80               8.8        101   \n\n   peak_rpm city_mpg  highway_mpg  price  \n0      5000       21           27  13495  \n1      5000       21           27  16500  \n2      5000       19           26  16500  \n3      5500       24           30  13950  \n4      5500       18           22  17450  \n5      5500       19           25  15250  \n6      5500       19           25  17710  \n7      5500       19           25  18920  \n8      5500       17           20  23875  \n9      5800       23           29  16430  \n\n[10 rows x 26 columns]",
      "text/html": "<div>\n<style scoped>\n    .dataframe tbody tr th:only-of-type {\n        vertical-align: middle;\n    }\n\n    .dataframe tbody tr th {\n        vertical-align: top;\n    }\n\n    .dataframe thead th {\n        text-align: right;\n    }\n</style>\n<table border=\"1\" class=\"dataframe\">\n  <thead>\n    <tr style=\"text-align: right;\">\n      <th></th>\n      <th>symboling</th>\n      <th>normalized_losses</th>\n      <th>make</th>\n      <th>fuel_type</th>\n      <th>aspiration</th>\n      <th>number_of_doors</th>\n      <th>body_style</th>\n      <th>drive_wheels</th>\n      <th>engine_location</th>\n      <th>wheel_base</th>\n      <th>...</th>\n      <th>engine_size</th>\n      <th>fuel_system</th>\n      <th>bore</th>\n      <th>stroke</th>\n      <th>compression_ratio</th>\n      <th>horsepower</th>\n      <th>peak_rpm</th>\n      <th>city_mpg</th>\n      <th>highway_mpg</th>\n      <th>price</th>\n    </tr>\n  </thead>\n  <tbody>\n    <tr>\n      <th>0</th>\n      <td>3</td>\n      <td>168</td>\n      <td>alfa-romero</td>\n      <td>gas</td>\n      <td>std</td>\n      <td>two</td>\n      <td>convertible</td>\n      <td>rwd</td>\n      <td>front</td>\n      <td>88.6</td>\n      <td>...</td>\n      <td>130</td>\n      <td>mpfi</td>\n      <td>3.47</td>\n      <td>2.68</td>\n      <td>9.0</td>\n      <td>111</td>\n      <td>5000</td>\n      <td>21</td>\n      <td>27</td>\n      <td>13495</td>\n    </tr>\n    <tr>\n      <th>1</th>\n      <td>3</td>\n      <td>168</td>\n      <td>alfa-romero</td>\n      <td>gas</td>\n      <td>std</td>\n      <td>two</td>\n      <td>convertible</td>\n      <td>rwd</td>\n      <td>front</td>\n      <td>88.6</td>\n      <td>...</td>\n      <td>130</td>\n      <td>mpfi</td>\n      <td>3.47</td>\n      <td>2.68</td>\n      <td>9.0</td>\n      <td>111</td>\n      <td>5000</td>\n      <td>21</td>\n      <td>27</td>\n      <td>16500</td>\n    </tr>\n    <tr>\n      <th>2</th>\n      <td>1</td>\n      <td>168</td>\n      <td>alfa-romero</td>\n      <td>gas</td>\n      <td>std</td>\n      <td>two</td>\n      <td>hatchback</td>\n      <td>rwd</td>\n      <td>front</td>\n      <td>94.5</td>\n      <td>...</td>\n      <td>152</td>\n      <td>mpfi</td>\n      <td>2.68</td>\n      <td>3.47</td>\n      <td>9.0</td>\n      <td>154</td>\n      <td>5000</td>\n      <td>19</td>\n      <td>26</td>\n      <td>16500</td>\n    </tr>\n    <tr>\n      <th>3</th>\n      <td>2</td>\n      <td>164</td>\n      <td>audi</td>\n      <td>gas</td>\n      <td>std</td>\n      <td>four</td>\n      <td>sedan</td>\n      <td>fwd</td>\n      <td>front</td>\n      <td>99.8</td>\n      <td>...</td>\n      <td>109</td>\n      <td>mpfi</td>\n      <td>3.19</td>\n      <td>3.40</td>\n      <td>10.0</td>\n      <td>102</td>\n      <td>5500</td>\n      <td>24</td>\n      <td>30</td>\n      <td>13950</td>\n    </tr>\n    <tr>\n      <th>4</th>\n      <td>2</td>\n      <td>164</td>\n      <td>audi</td>\n      <td>gas</td>\n      <td>std</td>\n      <td>four</td>\n      <td>sedan</td>\n      <td>4wd</td>\n      <td>front</td>\n      <td>99.4</td>\n      <td>...</td>\n      <td>136</td>\n      <td>mpfi</td>\n      <td>3.19</td>\n      <td>3.40</td>\n      <td>8.0</td>\n      <td>115</td>\n      <td>5500</td>\n      <td>18</td>\n      <td>22</td>\n      <td>17450</td>\n    </tr>\n    <tr>\n      <th>5</th>\n      <td>2</td>\n      <td>161</td>\n      <td>audi</td>\n      <td>gas</td>\n      <td>std</td>\n      <td>two</td>\n      <td>sedan</td>\n      <td>fwd</td>\n      <td>front</td>\n      <td>99.8</td>\n      <td>...</td>\n      <td>136</td>\n      <td>mpfi</td>\n      <td>3.19</td>\n      <td>3.40</td>\n      <td>8.5</td>\n      <td>110</td>\n      <td>5500</td>\n      <td>19</td>\n      <td>25</td>\n      <td>15250</td>\n    </tr>\n    <tr>\n      <th>6</th>\n      <td>1</td>\n      <td>158</td>\n      <td>audi</td>\n      <td>gas</td>\n      <td>std</td>\n      <td>four</td>\n      <td>sedan</td>\n      <td>fwd</td>\n      <td>front</td>\n      <td>105.8</td>\n      <td>...</td>\n      <td>136</td>\n      <td>mpfi</td>\n      <td>3.19</td>\n      <td>3.40</td>\n      <td>8.5</td>\n      <td>110</td>\n      <td>5500</td>\n      <td>19</td>\n      <td>25</td>\n      <td>17710</td>\n    </tr>\n    <tr>\n      <th>7</th>\n      <td>1</td>\n      <td>168</td>\n      <td>audi</td>\n      <td>gas</td>\n      <td>std</td>\n      <td>four</td>\n      <td>wagon</td>\n      <td>fwd</td>\n      <td>front</td>\n      <td>105.8</td>\n      <td>...</td>\n      <td>136</td>\n      <td>mpfi</td>\n      <td>3.19</td>\n      <td>3.40</td>\n      <td>8.5</td>\n      <td>110</td>\n      <td>5500</td>\n      <td>19</td>\n      <td>25</td>\n      <td>18920</td>\n    </tr>\n    <tr>\n      <th>8</th>\n      <td>1</td>\n      <td>158</td>\n      <td>audi</td>\n      <td>gas</td>\n      <td>turbo</td>\n      <td>four</td>\n      <td>sedan</td>\n      <td>fwd</td>\n      <td>front</td>\n      <td>105.8</td>\n      <td>...</td>\n      <td>131</td>\n      <td>mpfi</td>\n      <td>3.13</td>\n      <td>3.40</td>\n      <td>8.3</td>\n      <td>140</td>\n      <td>5500</td>\n      <td>17</td>\n      <td>20</td>\n      <td>23875</td>\n    </tr>\n    <tr>\n      <th>9</th>\n      <td>2</td>\n      <td>192</td>\n      <td>bmw</td>\n      <td>gas</td>\n      <td>std</td>\n      <td>two</td>\n      <td>sedan</td>\n      <td>rwd</td>\n      <td>front</td>\n      <td>101.2</td>\n      <td>...</td>\n      <td>108</td>\n      <td>mpfi</td>\n      <td>3.50</td>\n      <td>2.80</td>\n      <td>8.8</td>\n      <td>101</td>\n      <td>5800</td>\n      <td>23</td>\n      <td>29</td>\n      <td>16430</td>\n    </tr>\n  </tbody>\n</table>\n<p>10 rows × 26 columns</p>\n</div>"
     },
     "metadata": {},
     "execution_count": 34
    }
   ],
   "source": [
    "auto.head(10)"
   ]
  },
  {
   "cell_type": "code",
   "execution_count": 36,
   "metadata": {},
   "outputs": [
    {
     "output_type": "execute_result",
     "data": {
      "text/plain": "     symboling  normalized_losses        make fuel_type aspiration  \\\n19           0                 81   chevrolet       gas        std   \n24           1                148       dodge       gas        std   \n42           0                110       isuzu       gas        std   \n50           1                113       mazda       gas        std   \n82           1                125  mitsubishi       gas        std   \n86           1                128      nissan       gas        std   \n88           1                128      nissan       gas        std   \n89           1                122      nissan       gas        std   \n118          1                154    plymouth       gas        std   \n152          0                 91      toyota       gas        std   \n\n    number_of_doors body_style drive_wheels engine_location  wheel_base  ...  \\\n19             four      sedan          fwd           front        94.5  ...   \n24             four      sedan          fwd           front        93.7  ...   \n42             four      sedan          rwd           front        94.3  ...   \n50             four      sedan          fwd           front        93.1  ...   \n82             four      sedan          fwd           front        96.3  ...   \n86              two      sedan          fwd           front        94.5  ...   \n88              two      sedan          fwd           front        94.5  ...   \n89             four      sedan          fwd           front        94.5  ...   \n118            four      sedan          fwd           front        93.7  ...   \n152            four      sedan          fwd           front        95.7  ...   \n\n     engine_size  fuel_system  bore  stroke compression_ratio horsepower  \\\n19            90         2bbl  3.03    3.11               9.6         70   \n24            90         2bbl  2.97    3.23               9.4         68   \n42           111         2bbl  3.31    3.23               8.5         78   \n50            91         2bbl  3.03    3.15               9.0         68   \n82           122         2bbl  3.35    3.46               8.5         88   \n86            97         2bbl  3.15    3.29               9.4         69   \n88            97         2bbl  3.15    3.29               9.4         69   \n89            97         2bbl  3.15    3.29               9.4         69   \n118           90         2bbl  2.97    3.23               9.4         68   \n152           98         2bbl  3.19    3.03               9.0         70   \n\n     peak_rpm city_mpg  highway_mpg  price  \n19       5400       38           43   6575  \n24       5500       31           38   6692  \n42       4800       24           29   6785  \n50       5000       31           38   6695  \n82       5000       25           32   6989  \n86       5200       31           37   5499  \n88       5200       31           37   6649  \n89       5200       31           37   6849  \n118      5500       31           38   6692  \n152      4800       30           37   6938  \n\n[10 rows x 26 columns]",
      "text/html": "<div>\n<style scoped>\n    .dataframe tbody tr th:only-of-type {\n        vertical-align: middle;\n    }\n\n    .dataframe tbody tr th {\n        vertical-align: top;\n    }\n\n    .dataframe thead th {\n        text-align: right;\n    }\n</style>\n<table border=\"1\" class=\"dataframe\">\n  <thead>\n    <tr style=\"text-align: right;\">\n      <th></th>\n      <th>symboling</th>\n      <th>normalized_losses</th>\n      <th>make</th>\n      <th>fuel_type</th>\n      <th>aspiration</th>\n      <th>number_of_doors</th>\n      <th>body_style</th>\n      <th>drive_wheels</th>\n      <th>engine_location</th>\n      <th>wheel_base</th>\n      <th>...</th>\n      <th>engine_size</th>\n      <th>fuel_system</th>\n      <th>bore</th>\n      <th>stroke</th>\n      <th>compression_ratio</th>\n      <th>horsepower</th>\n      <th>peak_rpm</th>\n      <th>city_mpg</th>\n      <th>highway_mpg</th>\n      <th>price</th>\n    </tr>\n  </thead>\n  <tbody>\n    <tr>\n      <th>19</th>\n      <td>0</td>\n      <td>81</td>\n      <td>chevrolet</td>\n      <td>gas</td>\n      <td>std</td>\n      <td>four</td>\n      <td>sedan</td>\n      <td>fwd</td>\n      <td>front</td>\n      <td>94.5</td>\n      <td>...</td>\n      <td>90</td>\n      <td>2bbl</td>\n      <td>3.03</td>\n      <td>3.11</td>\n      <td>9.6</td>\n      <td>70</td>\n      <td>5400</td>\n      <td>38</td>\n      <td>43</td>\n      <td>6575</td>\n    </tr>\n    <tr>\n      <th>24</th>\n      <td>1</td>\n      <td>148</td>\n      <td>dodge</td>\n      <td>gas</td>\n      <td>std</td>\n      <td>four</td>\n      <td>sedan</td>\n      <td>fwd</td>\n      <td>front</td>\n      <td>93.7</td>\n      <td>...</td>\n      <td>90</td>\n      <td>2bbl</td>\n      <td>2.97</td>\n      <td>3.23</td>\n      <td>9.4</td>\n      <td>68</td>\n      <td>5500</td>\n      <td>31</td>\n      <td>38</td>\n      <td>6692</td>\n    </tr>\n    <tr>\n      <th>42</th>\n      <td>0</td>\n      <td>110</td>\n      <td>isuzu</td>\n      <td>gas</td>\n      <td>std</td>\n      <td>four</td>\n      <td>sedan</td>\n      <td>rwd</td>\n      <td>front</td>\n      <td>94.3</td>\n      <td>...</td>\n      <td>111</td>\n      <td>2bbl</td>\n      <td>3.31</td>\n      <td>3.23</td>\n      <td>8.5</td>\n      <td>78</td>\n      <td>4800</td>\n      <td>24</td>\n      <td>29</td>\n      <td>6785</td>\n    </tr>\n    <tr>\n      <th>50</th>\n      <td>1</td>\n      <td>113</td>\n      <td>mazda</td>\n      <td>gas</td>\n      <td>std</td>\n      <td>four</td>\n      <td>sedan</td>\n      <td>fwd</td>\n      <td>front</td>\n      <td>93.1</td>\n      <td>...</td>\n      <td>91</td>\n      <td>2bbl</td>\n      <td>3.03</td>\n      <td>3.15</td>\n      <td>9.0</td>\n      <td>68</td>\n      <td>5000</td>\n      <td>31</td>\n      <td>38</td>\n      <td>6695</td>\n    </tr>\n    <tr>\n      <th>82</th>\n      <td>1</td>\n      <td>125</td>\n      <td>mitsubishi</td>\n      <td>gas</td>\n      <td>std</td>\n      <td>four</td>\n      <td>sedan</td>\n      <td>fwd</td>\n      <td>front</td>\n      <td>96.3</td>\n      <td>...</td>\n      <td>122</td>\n      <td>2bbl</td>\n      <td>3.35</td>\n      <td>3.46</td>\n      <td>8.5</td>\n      <td>88</td>\n      <td>5000</td>\n      <td>25</td>\n      <td>32</td>\n      <td>6989</td>\n    </tr>\n    <tr>\n      <th>86</th>\n      <td>1</td>\n      <td>128</td>\n      <td>nissan</td>\n      <td>gas</td>\n      <td>std</td>\n      <td>two</td>\n      <td>sedan</td>\n      <td>fwd</td>\n      <td>front</td>\n      <td>94.5</td>\n      <td>...</td>\n      <td>97</td>\n      <td>2bbl</td>\n      <td>3.15</td>\n      <td>3.29</td>\n      <td>9.4</td>\n      <td>69</td>\n      <td>5200</td>\n      <td>31</td>\n      <td>37</td>\n      <td>5499</td>\n    </tr>\n    <tr>\n      <th>88</th>\n      <td>1</td>\n      <td>128</td>\n      <td>nissan</td>\n      <td>gas</td>\n      <td>std</td>\n      <td>two</td>\n      <td>sedan</td>\n      <td>fwd</td>\n      <td>front</td>\n      <td>94.5</td>\n      <td>...</td>\n      <td>97</td>\n      <td>2bbl</td>\n      <td>3.15</td>\n      <td>3.29</td>\n      <td>9.4</td>\n      <td>69</td>\n      <td>5200</td>\n      <td>31</td>\n      <td>37</td>\n      <td>6649</td>\n    </tr>\n    <tr>\n      <th>89</th>\n      <td>1</td>\n      <td>122</td>\n      <td>nissan</td>\n      <td>gas</td>\n      <td>std</td>\n      <td>four</td>\n      <td>sedan</td>\n      <td>fwd</td>\n      <td>front</td>\n      <td>94.5</td>\n      <td>...</td>\n      <td>97</td>\n      <td>2bbl</td>\n      <td>3.15</td>\n      <td>3.29</td>\n      <td>9.4</td>\n      <td>69</td>\n      <td>5200</td>\n      <td>31</td>\n      <td>37</td>\n      <td>6849</td>\n    </tr>\n    <tr>\n      <th>118</th>\n      <td>1</td>\n      <td>154</td>\n      <td>plymouth</td>\n      <td>gas</td>\n      <td>std</td>\n      <td>four</td>\n      <td>sedan</td>\n      <td>fwd</td>\n      <td>front</td>\n      <td>93.7</td>\n      <td>...</td>\n      <td>90</td>\n      <td>2bbl</td>\n      <td>2.97</td>\n      <td>3.23</td>\n      <td>9.4</td>\n      <td>68</td>\n      <td>5500</td>\n      <td>31</td>\n      <td>38</td>\n      <td>6692</td>\n    </tr>\n    <tr>\n      <th>152</th>\n      <td>0</td>\n      <td>91</td>\n      <td>toyota</td>\n      <td>gas</td>\n      <td>std</td>\n      <td>four</td>\n      <td>sedan</td>\n      <td>fwd</td>\n      <td>front</td>\n      <td>95.7</td>\n      <td>...</td>\n      <td>98</td>\n      <td>2bbl</td>\n      <td>3.19</td>\n      <td>3.03</td>\n      <td>9.0</td>\n      <td>70</td>\n      <td>4800</td>\n      <td>30</td>\n      <td>37</td>\n      <td>6938</td>\n    </tr>\n  </tbody>\n</table>\n<p>10 rows × 26 columns</p>\n</div>"
     },
     "metadata": {},
     "execution_count": 36
    }
   ],
   "source": [
    "auto[(auto['body_style'] == 'sedan') & (auto['price'] < 7000)]"
   ]
  },
  {
   "cell_type": "markdown",
   "metadata": {},
   "source": [
    "### The END"
   ]
  }
 ],
 "metadata": {
  "kernelspec": {
   "display_name": "Python 3.8.3 64-bit",
   "language": "python",
   "name": "python_defaultSpec_1594141455741"
  },
  "language_info": {
   "codemirror_mode": {
    "name": "ipython",
    "version": 2
   },
   "file_extension": ".py",
   "mimetype": "text/x-python",
   "name": "python",
   "nbconvert_exporter": "python",
   "pygments_lexer": "ipython2",
   "version": "2.7.15"
  }
 },
 "nbformat": 4,
 "nbformat_minor": 1
}